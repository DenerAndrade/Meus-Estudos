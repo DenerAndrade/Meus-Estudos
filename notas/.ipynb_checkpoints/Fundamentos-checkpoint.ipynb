{
 "cells": [
  {
   "cell_type": "markdown",
   "id": "ef22243f",
   "metadata": {},
   "source": [
    "# Tipos Básicos de Dados"
   ]
  },
  {
   "cell_type": "code",
   "execution_count": 7,
   "id": "96efaf7b",
   "metadata": {},
   "outputs": [
    {
     "name": "stdout",
     "output_type": "stream",
     "text": [
      "True\n",
      "False\n",
      "2.2\n",
      "Palavras em aspas simples ou dupla são String\n",
      "[1, 2, 3]\n",
      "{'nome': 'Pedro', 'idade': 22}\n"
     ]
    }
   ],
   "source": [
    "print(True)#Verdadeiro\n",
    "print(False)# Falso\n",
    "print(1.2 + 1)# Float ponto flutuante ou valor Real\n",
    "print('Palavras em aspas simples ou dupla são String')# String são textos\n",
    "#print( 3 + '3' ) -> ambiguidade pois tem um numero INTEIRO e uma STRING\n",
    "print( [1,2,3]) # lISTA  armazena valores dentro de uma estrutura\n",
    "print({'nome':'Pedro','idade':22}) #Dicionário é composto de Chave : Valor\n",
    "\n"
   ]
  },
  {
   "cell_type": "markdown",
   "id": "891ea826",
   "metadata": {},
   "source": [
    "# Variáveis\n"
   ]
  },
  {
   "cell_type": "code",
   "execution_count": 4,
   "id": "4ec28510",
   "metadata": {},
   "outputs": [
    {
     "name": "stdout",
     "output_type": "stream",
     "text": [
      "25.2\n",
      "Agora sou uma String\n"
     ]
    }
   ],
   "source": [
    "a = 10 #  variavel (A) é tipo INT\n",
    "b = 15.2 # variável (B) é tipo FLOAT \n",
    "\n",
    "print(a + b)\n",
    "\n",
    "a = 'Agora sou uma String' # Variável (A) passa a ser do tipo STRING\n",
    "print(a)"
   ]
  },
  {
   "cell_type": "markdown",
   "id": "7fc3d407",
   "metadata": {},
   "source": [
    "# COMENTÁRIOS"
   ]
  },
  {
   "cell_type": "code",
   "execution_count": 1,
   "id": "7009f14f",
   "metadata": {},
   "outputs": [
    {
     "name": "stdout",
     "output_type": "stream",
     "text": [
      "994.25\n",
      "Fim de verdade\n"
     ]
    }
   ],
   "source": [
    "# Minhas variáveis\n",
    "salario = 3450.45\n",
    "despesas = 2456.2\n",
    "\n",
    "\"\"\"\n",
    "A ideia é calcular o \n",
    "quanto vai sobrar no \n",
    "final do mês!\n",
    "\"\"\"\n",
    "print(salario - despesas)\n",
    "\n",
    "'''\n",
    "A ideia é calcular o \n",
    "quanto vai sobrar no \n",
    "final do mês!\n",
    "\n",
    "'''\n",
    "\n",
    "#  print ('Fim')\n",
    "print('Fim de verdade') # Comentário aqui ttambém vale\n",
    "    "
   ]
  },
  {
   "cell_type": "markdown",
   "id": "fb9c2ee4",
   "metadata": {},
   "source": [
    "# Operadores Aritméticos\n"
   ]
  },
  {
   "cell_type": "code",
   "execution_count": 10,
   "id": "f640ca3c",
   "metadata": {},
   "outputs": [
    {
     "name": "stdout",
     "output_type": "stream",
     "text": [
      "5\n",
      "-3\n",
      "10.6\n",
      "3.1333333333333333\n",
      "3.0\n",
      "256\n",
      "1\n"
     ]
    }
   ],
   "source": [
    "print(2 + 3) # adição\n",
    "print(4 - 7) # subtração\n",
    "print(2 * 5.3) # multiplicação\n",
    "print(9.4 / 3) # divisão retornara um numero float\n",
    "print(9.4 // 3) # divisão retornara um número inteiro\n",
    "print(2 ** 8 ) # exponenciação \n",
    "print(10 % 3) # Modulo resto da divisão 3 "
   ]
  },
  {
   "cell_type": "code",
   "execution_count": 20,
   "id": "8e2ed8e5",
   "metadata": {},
   "outputs": [
    {
     "name": "stdout",
     "output_type": "stream",
     "text": [
      "71.18491790925822\n"
     ]
    }
   ],
   "source": [
    "salario = 3450.45\n",
    "despesas = 2456.2\n",
    "\n",
    "percentual_comprometido  = despesas / salario * 100\n",
    "print(percentual_comprometido)"
   ]
  },
  {
   "cell_type": "markdown",
   "id": "7df79f0d",
   "metadata": {},
   "source": [
    "# Operadores Relacionais "
   ]
  },
  {
   "cell_type": "code",
   "execution_count": 32,
   "id": "2ec87af6",
   "metadata": {},
   "outputs": [
    {
     "name": "stdout",
     "output_type": "stream",
     "text": [
      "False\n",
      "True\n",
      "True\n",
      "False\n",
      "True\n",
      "True\n",
      "False\n"
     ]
    }
   ],
   "source": [
    "print(3 > 4) # maior\n",
    "print(4 >= 3) # maior igual\n",
    "print(1 < 2) # menor\n",
    "print(3 <= 1) # menor igual\n",
    "print(3 != 2) # diferente\n",
    "print(3 == 3) # igual de igualdade (tipo)\n",
    "print(2 == '3') # igual de igualdade (tipo) \n",
    "\n"
   ]
  },
  {
   "cell_type": "markdown",
   "id": "1e6b93cc",
   "metadata": {},
   "source": [
    "# Operadores de Atribuição"
   ]
  },
  {
   "cell_type": "code",
   "execution_count": 13,
   "id": "cab48f7c",
   "metadata": {},
   "outputs": [
    {
     "name": "stdout",
     "output_type": "stream",
     "text": [
      "10\n",
      "15\n",
      "12\n",
      "24\n",
      "6.0\n",
      "2.0\n",
      "256.0\n",
      "1.0\n"
     ]
    }
   ],
   "source": [
    "a = 3 \n",
    "a = a + 7\n",
    "print(a)\n",
    "\n",
    "a += 5 # a = a + 5 / essa é uma forma mais simplificada a +='' 5 \n",
    "print(a)\n",
    "\n",
    "a -= 3 # a = a - 3    subtração\n",
    "print(a)\n",
    "\n",
    "a *= 2 # a = a * 2   multiplicação\n",
    "print(a)\n",
    "\n",
    "a /= 4 # a = a / 4    divisão\n",
    "print(a)\n",
    "\n",
    "a %= 4 # a = a % 4     resto da divisão\n",
    "print(a)\n",
    "\n",
    "a **= 8 # a = a ** 8      exponenciação\n",
    "print(a)\n",
    "\n",
    "a //= 256 # a = a // 256     divisão numero inteiro     \n",
    "print(a)\n"
   ]
  },
  {
   "cell_type": "markdown",
   "id": "f9d8ee4d",
   "metadata": {},
   "source": [
    "# Operadores lógicos"
   ]
  },
  {
   "cell_type": "code",
   "execution_count": 30,
   "id": "2ee89446",
   "metadata": {},
   "outputs": [
    {
     "data": {
      "text/plain": [
       "True"
      ]
     },
     "execution_count": 30,
     "metadata": {},
     "output_type": "execute_result"
    }
   ],
   "source": [
    "True and False\n",
    "\n",
    "7 > 3 and 2 > 3\n",
    "\n",
    "# Tabela verdade AND\n",
    "True and True # True\n",
    "True and False # False\n",
    "False and True # False\n",
    "False and False # False\n",
    "\n",
    "# Tabela verdade do OR\n",
    "True or True # True\n",
    "True or False # True\n",
    "False or True # True\n",
    "False or False # False\n",
    "\n",
    "# Tabela verdade do XOR !=\n",
    "True != True # False\n",
    "True != False # True\n",
    "False != True # True\n",
    "False != False # False\n",
    "\n",
    "# Operador de NEGAÇÂO ( UNÁRIO)\n",
    "not True # False\n",
    "not False # True\n",
    "\n",
    "#Desafio\n",
    "\n",
    "saldo = 1000\n",
    "salario = 4000\n",
    "despesas = 2967\n",
    "\n",
    "saldo_positivo = saldo > 0 \n",
    "\n",
    "despesas_controladas = salario - despesas >= 0.2 * salario\n",
    "\n",
    "meta = saldo_positivo and despesas_controladas\n",
    "\n",
    "meta\n",
    "\n",
    "\n"
   ]
  },
  {
   "cell_type": "code",
   "execution_count": 39,
   "id": "41238fdf",
   "metadata": {},
   "outputs": [
    {
     "name": "stdout",
     "output_type": "stream",
     "text": [
      "Tv50=False Tv32=False Sorvete=False Saudável=True\n"
     ]
    },
    {
     "data": {
      "text/plain": [
       "'Dener, 18, True '"
      ]
     },
     "execution_count": 39,
     "metadata": {},
     "output_type": "execute_result"
    }
   ],
   "source": [
    "# Desafio operadores Lógicos\n",
    "\n",
    "# os Trabalhos\n",
    "trabalho_terca = False\n",
    "trabalho_quinta = False\n",
    "\n",
    "\"\"\"\n",
    "- Confirmando os 2:TV 50' + Sorvete\n",
    "- Confirmando apenas 1: TV 32' + Sorvete\n",
    "- Nenhum confirmado: fica em casa\n",
    "\"\"\"\n",
    "tv_50 = trabalho_terca and trabalho_quinta\n",
    "sorvete = trabalho_terca or trabalho_quinta\n",
    "tv_32 = trabalho_terca != trabalho_quinta #xor\n",
    "mais_saudavel = not sorvete\n",
    "\n",
    "print(\"Tv50={} Tv32={} Sorvete={} Saudável={}\".format(tv_50, tv_32, sorvete, mais_saudavel))\n",
    "\n",
    "# \"{1}, {0}, {2} \".format(18, 'Dener',  True)\n"
   ]
  },
  {
   "cell_type": "markdown",
   "id": "ba4643c1",
   "metadata": {},
   "source": [
    "# Operadores Unários "
   ]
  },
  {
   "cell_type": "code",
   "execution_count": 57,
   "id": "a2957879",
   "metadata": {},
   "outputs": [
    {
     "data": {
      "text/plain": [
       "True"
      ]
     },
     "execution_count": 57,
     "metadata": {},
     "output_type": "execute_result"
    }
   ],
   "source": [
    "a = 3 \n",
    "# a++ em python não é possivel incrementar a++ ou a-- só possivel fazer adição a += 1\n",
    "\n",
    "# 0 em python tem o valor FALSE e qualquer outro numero em Python tem o valor TRUE\n",
    "not 0 # True\n",
    "not 1 # False\n",
    "not 4 # False\n",
    "\n",
    "not -2 #False\n",
    "\n",
    "not False # True\n",
    "not True # False\n",
    "\n",
    "not not False # False\n",
    "not not True # True"
   ]
  },
  {
   "cell_type": "markdown",
   "id": "c4f68ee4",
   "metadata": {},
   "source": [
    "# Operadores Ternários"
   ]
  },
  {
   "cell_type": "code",
   "execution_count": 75,
   "id": "633087d9",
   "metadata": {},
   "outputs": [
    {
     "name": "stdout",
     "output_type": "stream",
     "text": [
      "Hoje estou com  as roupas molhadas.\n",
      "Hoje estou com as roupas molhadas. \n",
      "Mais tarde vou jogar Sozinho. \n",
      "Mais tarde vou jogar Sozinho. \n"
     ]
    }
   ],
   "source": [
    "esta_chuvendo = True\n",
    "# nessa expressão o TRUE será o segundo'molhadas' e o fALSE será o primeiro'secas'\n",
    "print('Hoje estou com  as roupas ' + ('secas.', 'molhadas.')[esta_chuvendo])\n",
    "\n",
    "# nessa expressã o TRUE será o primeiro'molhadas'  e o fALSE será o segundo'secas'\n",
    "print('Hoje estou com as roupas ' + ('molhadas. 'if esta_chuvendo else 'secas. ' ))\n",
    "\n",
    "jogar_cs = False\n",
    "\n",
    "# nessa expressão o TRUE será o SEGUNDO 'com os Amigos' e o FALSE será o PRIMEIRO'Sozinho'\n",
    "print('Mais tarde vou jogar ' + ('Sozinho. ', 'Com os Amigos.')[jogar_cs])\n",
    "\n",
    "# nessa expressão o TRUE será o PRIMEIRO'com os amigos' e o FALSE'Sozinho'\n",
    "print('Mais tarde vou jogar ' + ('Com os amigos. ' if jogar_cs else 'Sozinho. '))\n"
   ]
  },
  {
   "cell_type": "markdown",
   "id": "75c4c7f1",
   "metadata": {},
   "source": [
    "# Mais Operadores"
   ]
  },
  {
   "cell_type": "code",
   "execution_count": 13,
   "id": "72a1a010",
   "metadata": {},
   "outputs": [
    {
     "data": {
      "text/plain": [
       "False"
      ]
     },
     "execution_count": 13,
     "metadata": {},
     "output_type": "execute_result"
    }
   ],
   "source": [
    "# Operador de Membro\n",
    "lista = [1, 2, 3, 'Ana', 'Carla'] # lista de membro\n",
    "2 in lista  # 2 esta na lista acima (True)\n",
    "'Carla' in lista # Carla esta na lista acima (True)\n",
    "'Rafaela' in lista # Rafaela não esta na lista aciima(False)\n",
    "\n",
    "# Operador de Identidade\n",
    "x = 3\n",
    "y = x\n",
    "z = 3\n",
    "\n",
    "x is y     # x tem o mesmo valor que y   (True)\n",
    "y is z     # y tem  o mesmo valor que z  (True)\n",
    "x is not z   # x tem o mesmo valor que Z (False)\n",
    "\n",
    "lista_a = [1, 2, 3]\n",
    "lista_b = lista_a\n",
    "lista_c = [1, 2, 3]\n",
    "\n",
    "lista_a is lista_b # TRUE tem a mesma idadentido (espaço de memoria)\n",
    "lista_c is lista_b # FALSE não tem a mesmo identidade"
   ]
  },
  {
   "cell_type": "markdown",
   "id": "e4597a66",
   "metadata": {},
   "source": [
    "# Conversão de Tipos"
   ]
  },
  {
   "cell_type": "code",
   "execution_count": 29,
   "id": "548c0c24",
   "metadata": {},
   "outputs": [
    {
     "name": "stdout",
     "output_type": "stream",
     "text": [
      "<class 'int'>\n",
      "<class 'str'>\n",
      "5\n",
      "23\n",
      "314.3\n",
      "17.3\n"
     ]
    }
   ],
   "source": [
    "2 + 3\n",
    "'2' + '3' # concatenar\n",
    "# 2 + '3' ERRO POIS O PYYHON NÃO PODE SOMAR UM (INTEIRO) + (STRING)\n",
    "\n",
    "a = 2\n",
    "b = '3'\n",
    "c = 14.3\n",
    "print(type(a))\n",
    "print(type(b))\n",
    "\n",
    "print(a + int(b)) # Converti de STRING para INTEIRO = 5\n",
    "print(str(a) + b) # Converti de INTEIRO para STRING e concatenei juntando '2' + '3'   = 23\n",
    "print(b + str(c)) # Converti de FLOAT para STRING e concatenei '3' + '14.3'   = 314.3\n",
    "print(float(b) + c) # Converti de STRING para FLOAT e Somei b + c     = 17.3\n"
   ]
  },
  {
   "cell_type": "markdown",
   "id": "4d4b4a00",
   "metadata": {},
   "source": [
    "# Coerção Automática\n"
   ]
  },
  {
   "cell_type": "code",
   "execution_count": 39,
   "id": "d7730ebf",
   "metadata": {},
   "outputs": [
    {
     "data": {
      "text/plain": [
       "2"
      ]
     },
     "execution_count": 39,
     "metadata": {},
     "output_type": "execute_result"
    }
   ],
   "source": [
    "10 / 2 # DIVISÃO RESULTA EM UM NUMERO FLOAT  5.0\n",
    "type(10/2) # float\n",
    "10 / 3 # float\n",
    "10 // 3 # esse tipo de  Divisão // resulta em um numero INTEIRO\n",
    "type(10 // 3)\n",
    "10 // 3.3 \n",
    "2 + True # True é 1 e por isso o Resultado é 3\n",
    "2 + False # False é 0 por isso o Resultado é 2\n"
   ]
  },
  {
   "cell_type": "markdown",
   "id": "4ab58b6a",
   "metadata": {},
   "source": [
    "# Tipos Numéricos"
   ]
  },
  {
   "cell_type": "code",
   "execution_count": 4,
   "id": "45444825",
   "metadata": {
    "scrolled": true
   },
   "outputs": [
    {
     "data": {
      "text/plain": [
       "2"
      ]
     },
     "execution_count": 4,
     "metadata": {},
     "output_type": "execute_result"
    }
   ],
   "source": [
    "dir(int)\n",
    "dir(float)\n",
    "\n",
    "\n",
    "a = 5\n",
    "b  = 2.5\n",
    "\n",
    "type(a)\n",
    "type(b)\n",
    "\n",
    "\n",
    "# b é um numero INTEIRO ? \n",
    "b.is_integer() # b é um INT ? =  FALSE\n",
    "5.0.is_integer() # 5.0 é um INT? = TRUE\n",
    "\n",
    "\n",
    "int.__add__(2, 3) # 2 + 3 soma os dois numero INTEIROS\n",
    "\n",
    "float.__add__(2.4, 5) # 2.4 + 5 soma de um numero float e Inteiro\n",
    "\n",
    "dir(int)\n",
    "\n",
    "(-2).__abs__()# função absoluto\n",
    "abs(-2)# função absoluto\n"
   ]
  },
  {
   "cell_type": "code",
   "execution_count": 24,
   "id": "87620819",
   "metadata": {},
   "outputs": [
    {
     "data": {
      "text/plain": [
       "Decimal('7')"
      ]
     },
     "execution_count": 24,
     "metadata": {},
     "output_type": "execute_result"
    }
   ],
   "source": [
    "from decimal import Decimal, getcontext\n",
    "Decimal(1) / Decimal(7)\n",
    "# função getcontext() é usada para acessar o contexto decimal atual\n",
    "#  .prec é a precisão que nesse casa são 4 casas decimais\n",
    "getcontext().prec = 4\n",
    "Decimal(1) / Decimal(7)\n",
    "\n",
    "# Decimal.max compara os 2 numeros e retorno o que tem o VALOR MAIOR\n",
    "Decimal.max(Decimal(1), Decimal(7)) \n",
    "\n",
    "\n"
   ]
  },
  {
   "cell_type": "markdown",
   "id": "8aa6d58f",
   "metadata": {},
   "source": [
    "# Tipos Strings"
   ]
  },
  {
   "cell_type": "code",
   "execution_count": 81,
   "id": "ad4c1911",
   "metadata": {},
   "outputs": [
    {
     "name": "stdout",
     "output_type": "stream",
     "text": [
      " Com 3 ASPAS duplas é possivel escreverem\n",
      " multiplas linhas\n",
      " Com 3 ASPAS duplas é possivel escreverem\n",
      " \t.... multiplas linhas\n"
     ]
    }
   ],
   "source": [
    "dir(str)\n",
    "nome = 'Saulo Pedro'\n",
    "nome\n",
    "\n",
    "nome[6] # Indexador : Consigo acessar cada letra de um STRING através de um par de CHAVES [ ] \n",
    "# nome[6] = 'F'  Não é possivel alterar/atribuir uma  STRING\n",
    "\n",
    "# 'marca d'agua' não é possivel usar ASPAS simples dessa forma \n",
    "\"Dias D' Avila\" == \"Dias D\\Avila\" # Assim é possivel usar Aspas Duplas e Simples na mesma STRRING\n",
    "\n",
    "\"Teste \\\" Funciona!\" \n",
    "texto = 'Texto entre apostrófos pode ter \"aspas\"'\n",
    "texto\n",
    "\n",
    "doc = \"\"\" Com 3 ASPAS duplas é possivel escrever em \n",
    "multiplas linhas\"\"\"\n",
    "\n",
    "doc\n",
    "\n",
    "''' Com 3 ASPAS Simples é possivel \n",
    " também escrever em multiplas linhas'''\n",
    "\n",
    "\n",
    "# \\n quebra linha\n",
    "print(\"\"\" Com 3 ASPAS duplas é possivel escreverem\\n multiplas linhas\"\"\")\n",
    "\n",
    "# \\t é o tab\n",
    "print(\"\"\" Com 3 ASPAS duplas é possivel escreverem\\n \\t.... multiplas linhas\"\"\")\n"
   ]
  },
  {
   "cell_type": "markdown",
   "id": "7d585b96",
   "metadata": {},
   "source": [
    "# Acessando o indice de uma String"
   ]
  },
  {
   "cell_type": "code",
   "execution_count": 109,
   "id": "eba236f3",
   "metadata": {},
   "outputs": [
    {
     "data": {
      "text/plain": [
       "'0741'"
      ]
     },
     "execution_count": 109,
     "metadata": {},
     "output_type": "execute_result"
    }
   ],
   "source": [
    "nome = 'Ana Paula'\n",
    "nome[0] # indice [0] é o A\n",
    "nome[6] # indice [6] é u\n",
    "nome[-3] # indice [-3] é contando de tras pra frente nesse casa é o [u]\n",
    "nome[4:] # esse indice [4:0] acessa a String a partir do [4] em Diante\n",
    "nome[-5] # acessa a String de tras pra frente\n",
    "nome[:3] # Mesmo sem ter nada antes do ( : ) acessa a string ate o [:3]\n",
    "nome[2:5] # depois do ( : ) sempre retornará uma string antes\n",
    "nome[::] # dois :: retorna a STRING completa\n",
    "\n",
    "numeros = '1234567890'\n",
    "numeros\n",
    "numeros[::]\n",
    "numeros[::2] # pula de 2 em dois numeros ('13579')\n",
    "numeros[1::2] # comeã do numero 1 e vai pulando de 2 em 2   ('24680')\n",
    "numeros[::-1] # retorna todos os numeros de trás pra frente\n",
    "numeros[::-2] # retorna todos os numeros de trás pra frente pulando de 2 em 2\n",
    "numeros[::-3] # retorna todos os numeros de trás pra frente pulando de 3 em 3\n"
   ]
  },
  {
   "cell_type": "markdown",
   "id": "e4874be1",
   "metadata": {},
   "source": [
    "# Lista"
   ]
  },
  {
   "cell_type": "code",
   "execution_count": 46,
   "id": "db191716",
   "metadata": {},
   "outputs": [
    {
     "data": {
      "text/plain": [
       "['Bia', 'Ana', 1]"
      ]
     },
     "execution_count": 46,
     "metadata": {},
     "output_type": "execute_result"
    }
   ],
   "source": [
    "lista = []\n",
    "type =(lista) # tipo da função\n",
    "dir(lista) # verifica quais funções pode usar no tipo lista\n",
    "len(lista) # len ver a quantidade de caracteres (lista) possui\n",
    "lista.append(1) # adiciona a lista o valor 1\n",
    "lista.append(5) # adiciona a lista o valor 5\n",
    "len(lista) # conta a quantdade de caracteres a (lista) possui\n",
    "\n",
    "nova_lista = [1, 5, 'Ana', 'Bia']\n",
    "nova_lista\n",
    "nova_lista.remove(5) # Removeu o numero 5 da lista\n",
    "nova_lista \n",
    "nova_lista.reverse() # Inverteu a seuencia da lista de trás para frente\n",
    "nova_lista\n"
   ]
  },
  {
   "cell_type": "code",
   "execution_count": 101,
   "id": "16692a2e",
   "metadata": {},
   "outputs": [
    {
     "data": {
      "text/plain": [
       "[5, 'Rebeca']"
      ]
     },
     "execution_count": 101,
     "metadata": {},
     "output_type": "execute_result"
    }
   ],
   "source": [
    "lista = [1, 5, 'Rebeca', 'Guilherme', 3.1415]\n",
    "lista.index('Guilherme') # Indica a posição do elemento na lista\n",
    "# lista.index(42) # Nãop esta dentro da lista\n",
    "lista[2] # indica qual é o elemento que esta na posição do 2\n",
    "1 in lista # Retorna True/False se o elemento 1 esta dentro da lista\n",
    "'Rebeca' in lista # Retorna True/False se o elemento Rebeca esta na lista\n",
    "'Pedro' not in lista # Retorna True/False se o elemeno Pedro esta na lista\n",
    "#lista[5] # a posição 5 não existe na lista\n",
    "lista[-1] # retorna o ultimo elemento da lista\n",
    "lista[::-1]# Retorna a lista de tras pra frente\n",
    "lista\n",
    "lista[1:3]\n"
   ]
  },
  {
   "cell_type": "code",
   "execution_count": 113,
   "id": "1af93b54",
   "metadata": {},
   "outputs": [
    {
     "data": {
      "text/plain": [
       "['Ana']"
      ]
     },
     "execution_count": 113,
     "metadata": {},
     "output_type": "execute_result"
    }
   ],
   "source": [
    "lista = ['Ana', 'Lia', 'Rui', 'Paulo', 'Dani']\n",
    "# exibir a lista da posição [1] ate a posição 3, porém sempre a ultima posição não retorna valor\n",
    "lista[1:3] \n",
    "lista[1:-1] # exibe a indice 1 até a -1 que é a ultima, porme só exibe até penultima\n",
    "lista[1:] # acessa a lista do indice 1 ate o final\n",
    "lista[:-1] # acessa a  lista do indice 0 até a peultima posição\n",
    "lista[:] # acessa a lista completa\n",
    "lista[::2] # acessa a lista pulando em intervalos de 2 em 2\n",
    "lista[::-2] # acessa a lista de tras pra frente pulando  em intervalos de 2 em 2\n",
    "del lista[2] # Deleta um elemento da lista por indice.\n",
    "lista\n",
    "del lista[1:] # Deleta todos os elementos a partir do indice 1\n",
    "lista"
   ]
  },
  {
   "cell_type": "markdown",
   "id": "a14f7355",
   "metadata": {},
   "source": [
    "# Tupla"
   ]
  },
  {
   "cell_type": "code",
   "execution_count": 27,
   "id": "c28753d1",
   "metadata": {},
   "outputs": [
    {
     "data": {
      "text/plain": [
       "2"
      ]
     },
     "execution_count": 27,
     "metadata": {},
     "output_type": "execute_result"
    }
   ],
   "source": [
    "tupla = tuple()\n",
    "tupla = ()\n",
    "type(tupla)\n",
    "dir(tupla)\n",
    "# help(tupla)\n",
    "type(tupla)\n",
    "tupla = ('um',)\n",
    "type(tupla)\n",
    "tupla[0]\n",
    "# tupla[0] = 'novo'# não dá pra fazer atribuição ou alteração de um elemento numa TUPLA\n",
    "cores = ('Verde', 'Amarelo', 'Azul', 'Azul', 'Branco')\n",
    "type(cores)\n",
    "cores[0]\n",
    "cores[1:] # acessa a lista a partir do indice [1]\n",
    "cores.index('Amarelo') # diz qual indice esta o elemento Amarelo\n",
    "cores.count('Azul') # conta a quantidade de elementos Azul"
   ]
  },
  {
   "cell_type": "markdown",
   "id": "5af8ea54",
   "metadata": {},
   "source": [
    "# Dicionários"
   ]
  },
  {
   "cell_type": "code",
   "execution_count": 67,
   "id": "22c7be6e",
   "metadata": {},
   "outputs": [
    {
     "data": {
      "text/plain": [
       "'Prof(a). Ana'"
      ]
     },
     "execution_count": 67,
     "metadata": {},
     "output_type": "execute_result"
    }
   ],
   "source": [
    "# ESTRUTURA CHAVE : VALOR\n",
    "# chave vai sempre estar antes do :\n",
    "# o valor vai estar depois do :\n",
    "pessoa = {'nome': 'Prof(a). Ana', 'Idade': 38, 'cursos': ['Inglês', 'Português']}\n",
    "type(pessoa)\n",
    "dir(dict)\n",
    "len(pessoa)\n",
    "\n",
    "pessoa\n",
    "pessoa['nome'] # para acessar o valor 'Prof(a). Ana' você declara a CHAVE 'nome'\n",
    "pessoa['Idade']\n",
    "pessoa['cursos']\n",
    "pessoa['cursos'][1] # acessando o indice que esta dentro do dicionário\n",
    "\n",
    "pessoa.keys() # acessa todas as CHAVES do dicionário\n",
    "pessoa.values() # acessa todos os VALORES do dicionário\n",
    "pessoa.items()\n",
    "pessoa.get('Idade') # Acessa e retorna o elemento que esta na CHAVE\n",
    "pessoa.get('nome') # Acessa e retorna o elemento que esta na CHAVE\n"
   ]
  },
  {
   "cell_type": "code",
   "execution_count": 126,
   "id": "e6d03dab",
   "metadata": {},
   "outputs": [
    {
     "data": {
      "text/plain": [
       "{}"
      ]
     },
     "execution_count": 126,
     "metadata": {},
     "output_type": "execute_result"
    }
   ],
   "source": [
    "# MANIPULANDO OS DADOS DENTRO DE UM DICIONÁRIO\n",
    "pessoa ={'nome': 'Prof(a) Alberto', 'Idade': 39, 'cursos': ['React', 'Python']}\n",
    "pessoa['Idade'] = 44\n",
    "\n",
    "pessoa['cursos'].append('Java') # adiciona 'Java' na lista cursos\n",
    "pessoa['cursos'].remove('React')# remove 'React' na lista cursos\n",
    "pessoa['cursos'].reverse()# acessa a lista de tras pra frente\n",
    "\n",
    "pessoa.pop('Idade') # pessoa.pop Acessa o valor e imediatamente Remove/deleta do dicionário\n",
    "pessoa\n",
    "\n",
    "# pessoa.update adiciona chave e valor ao final do Dicionário\n",
    "pessoa.update({'idade':40, 'Sexo': 'M'})\n",
    "pessoa\n",
    "\n",
    "del pessoa['cursos'] # deleta a chave 'cursos'e seus valores\n",
    "pessoa\n",
    "\n",
    "pessoa.clear() # DELETA/LIMPA todos os dados do dicionário\n",
    "pessoa"
   ]
  },
  {
   "cell_type": "markdown",
   "id": "338d459c",
   "metadata": {},
   "source": [
    "# CONJUNTO"
   ]
  },
  {
   "cell_type": "code",
   "execution_count": null,
   "id": "4924ae44",
   "metadata": {},
   "outputs": [],
   "source": []
  }
 ],
 "metadata": {
  "kernelspec": {
   "display_name": "Python 3 (ipykernel)",
   "language": "python",
   "name": "python3"
  },
  "language_info": {
   "codemirror_mode": {
    "name": "ipython",
    "version": 3
   },
   "file_extension": ".py",
   "mimetype": "text/x-python",
   "name": "python",
   "nbconvert_exporter": "python",
   "pygments_lexer": "ipython3",
   "version": "3.11.3"
  }
 },
 "nbformat": 4,
 "nbformat_minor": 5
}
